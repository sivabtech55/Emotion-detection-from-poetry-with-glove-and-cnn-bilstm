{
  "cells": [
    {
      "cell_type": "code",
      "execution_count": null,
      "metadata": {
        "execution": {
          "iopub.execute_input": "2021-08-04T03:03:33.350957Z",
          "iopub.status.busy": "2021-08-04T03:03:33.35041Z",
          "iopub.status.idle": "2021-08-04T03:03:34.339183Z",
          "shell.execute_reply": "2021-08-04T03:03:34.338383Z",
          "shell.execute_reply.started": "2021-08-04T03:03:33.35087Z"
        },
        "id": "ySHd4_xPNcNk"
      },
      "outputs": [],
      "source": [
        "import re\n",
        "import tqdm\n",
        "import numpy as np\n",
        "import pandas as pd\n",
        "import seaborn as sns\n",
        "import matplotlib.pyplot as plt"
      ]
    },
    {
      "cell_type": "markdown",
      "source": [
        "# mount google drive\n"
      ],
      "metadata": {
        "id": "lE8ccmQLNgRO"
      }
    },
    {
      "cell_type": "code",
      "source": [
        "from google.colab import drive\n",
        "drive.mount('/content/drive')"
      ],
      "metadata": {
        "colab": {
          "base_uri": "https://localhost:8080/"
        },
        "id": "JD9fIu6nNfRc",
        "outputId": "b35b5609-1503-44c1-e49e-77a5ecb966be"
      },
      "execution_count": null,
      "outputs": [
        {
          "output_type": "stream",
          "name": "stdout",
          "text": [
            "Mounted at /content/drive\n"
          ]
        }
      ]
    },
    {
      "cell_type": "code",
      "source": [
        "!ls"
      ],
      "metadata": {
        "colab": {
          "base_uri": "https://localhost:8080/"
        },
        "id": "DTK7j-ZARtzW",
        "outputId": "08313070-668e-4f6c-856a-07b45298d0ab"
      },
      "execution_count": null,
      "outputs": [
        {
          "output_type": "stream",
          "name": "stdout",
          "text": [
            "drive  sample_data  test.txt  train.txt  val.txt\n"
          ]
        }
      ]
    },
    {
      "cell_type": "markdown",
      "metadata": {
        "id": "iFkPBYKbNcNz"
      },
      "source": [
        "# **Reading dataset and separating them as text and label**"
      ]
    },
    {
      "cell_type": "code",
      "execution_count": null,
      "metadata": {
        "execution": {
          "iopub.execute_input": "2021-08-04T03:03:34.341247Z",
          "iopub.status.busy": "2021-08-04T03:03:34.340859Z",
          "iopub.status.idle": "2021-08-04T03:03:34.454917Z",
          "shell.execute_reply": "2021-08-04T03:03:34.45402Z",
          "shell.execute_reply.started": "2021-08-04T03:03:34.341206Z"
        },
        "id": "T9cb6jUYNcN3"
      },
      "outputs": [],
      "source": [
        "train_df = pd.read_csv(\"/content/drive/My Drive/paper/train.txt\", sep=\";\", header= None, names=[\"text\", \"label\"])\n",
        "test_df = pd.read_csv(\"/content/drive/My Drive/paper/test.txt\", sep=\";\", header= None, names=[\"text\", \"label\"])\n",
        "val_df = pd.read_csv(\"/content/drive/My Drive/paper/val.txt\", sep=\";\", header= None, names=[\"text\", \"label\"])"
      ]
    },
    {
      "cell_type": "code",
      "execution_count": null,
      "metadata": {
        "execution": {
          "iopub.execute_input": "2021-08-04T03:03:34.457052Z",
          "iopub.status.busy": "2021-08-04T03:03:34.45677Z",
          "iopub.status.idle": "2021-08-04T03:03:34.481175Z",
          "shell.execute_reply": "2021-08-04T03:03:34.480131Z",
          "shell.execute_reply.started": "2021-08-04T03:03:34.457026Z"
        },
        "colab": {
          "base_uri": "https://localhost:8080/",
          "height": 206
        },
        "id": "KI8dvFdGNcN5",
        "outputId": "a1e0ea8f-88f4-4288-a42f-0ae56279dc22"
      },
      "outputs": [
        {
          "output_type": "execute_result",
          "data": {
            "text/plain": [
              "                                                text    label\n",
              "0                            i didnt feel humiliated  sadness\n",
              "1  i can go from feeling so hopeless to so damned...  sadness\n",
              "2   im grabbing a minute to post i feel greedy wrong    anger\n",
              "3  i am ever feeling nostalgic about the fireplac...     love\n",
              "4                               i am feeling grouchy    anger"
            ],
            "text/html": [
              "\n",
              "  <div id=\"df-b39c04ed-7f64-4be3-b0a6-c8d103d2fbb3\">\n",
              "    <div class=\"colab-df-container\">\n",
              "      <div>\n",
              "<style scoped>\n",
              "    .dataframe tbody tr th:only-of-type {\n",
              "        vertical-align: middle;\n",
              "    }\n",
              "\n",
              "    .dataframe tbody tr th {\n",
              "        vertical-align: top;\n",
              "    }\n",
              "\n",
              "    .dataframe thead th {\n",
              "        text-align: right;\n",
              "    }\n",
              "</style>\n",
              "<table border=\"1\" class=\"dataframe\">\n",
              "  <thead>\n",
              "    <tr style=\"text-align: right;\">\n",
              "      <th></th>\n",
              "      <th>text</th>\n",
              "      <th>label</th>\n",
              "    </tr>\n",
              "  </thead>\n",
              "  <tbody>\n",
              "    <tr>\n",
              "      <th>0</th>\n",
              "      <td>i didnt feel humiliated</td>\n",
              "      <td>sadness</td>\n",
              "    </tr>\n",
              "    <tr>\n",
              "      <th>1</th>\n",
              "      <td>i can go from feeling so hopeless to so damned...</td>\n",
              "      <td>sadness</td>\n",
              "    </tr>\n",
              "    <tr>\n",
              "      <th>2</th>\n",
              "      <td>im grabbing a minute to post i feel greedy wrong</td>\n",
              "      <td>anger</td>\n",
              "    </tr>\n",
              "    <tr>\n",
              "      <th>3</th>\n",
              "      <td>i am ever feeling nostalgic about the fireplac...</td>\n",
              "      <td>love</td>\n",
              "    </tr>\n",
              "    <tr>\n",
              "      <th>4</th>\n",
              "      <td>i am feeling grouchy</td>\n",
              "      <td>anger</td>\n",
              "    </tr>\n",
              "  </tbody>\n",
              "</table>\n",
              "</div>\n",
              "      <button class=\"colab-df-convert\" onclick=\"convertToInteractive('df-b39c04ed-7f64-4be3-b0a6-c8d103d2fbb3')\"\n",
              "              title=\"Convert this dataframe to an interactive table.\"\n",
              "              style=\"display:none;\">\n",
              "        \n",
              "  <svg xmlns=\"http://www.w3.org/2000/svg\" height=\"24px\"viewBox=\"0 0 24 24\"\n",
              "       width=\"24px\">\n",
              "    <path d=\"M0 0h24v24H0V0z\" fill=\"none\"/>\n",
              "    <path d=\"M18.56 5.44l.94 2.06.94-2.06 2.06-.94-2.06-.94-.94-2.06-.94 2.06-2.06.94zm-11 1L8.5 8.5l.94-2.06 2.06-.94-2.06-.94L8.5 2.5l-.94 2.06-2.06.94zm10 10l.94 2.06.94-2.06 2.06-.94-2.06-.94-.94-2.06-.94 2.06-2.06.94z\"/><path d=\"M17.41 7.96l-1.37-1.37c-.4-.4-.92-.59-1.43-.59-.52 0-1.04.2-1.43.59L10.3 9.45l-7.72 7.72c-.78.78-.78 2.05 0 2.83L4 21.41c.39.39.9.59 1.41.59.51 0 1.02-.2 1.41-.59l7.78-7.78 2.81-2.81c.8-.78.8-2.07 0-2.86zM5.41 20L4 18.59l7.72-7.72 1.47 1.35L5.41 20z\"/>\n",
              "  </svg>\n",
              "      </button>\n",
              "      \n",
              "  <style>\n",
              "    .colab-df-container {\n",
              "      display:flex;\n",
              "      flex-wrap:wrap;\n",
              "      gap: 12px;\n",
              "    }\n",
              "\n",
              "    .colab-df-convert {\n",
              "      background-color: #E8F0FE;\n",
              "      border: none;\n",
              "      border-radius: 50%;\n",
              "      cursor: pointer;\n",
              "      display: none;\n",
              "      fill: #1967D2;\n",
              "      height: 32px;\n",
              "      padding: 0 0 0 0;\n",
              "      width: 32px;\n",
              "    }\n",
              "\n",
              "    .colab-df-convert:hover {\n",
              "      background-color: #E2EBFA;\n",
              "      box-shadow: 0px 1px 2px rgba(60, 64, 67, 0.3), 0px 1px 3px 1px rgba(60, 64, 67, 0.15);\n",
              "      fill: #174EA6;\n",
              "    }\n",
              "\n",
              "    [theme=dark] .colab-df-convert {\n",
              "      background-color: #3B4455;\n",
              "      fill: #D2E3FC;\n",
              "    }\n",
              "\n",
              "    [theme=dark] .colab-df-convert:hover {\n",
              "      background-color: #434B5C;\n",
              "      box-shadow: 0px 1px 3px 1px rgba(0, 0, 0, 0.15);\n",
              "      filter: drop-shadow(0px 1px 2px rgba(0, 0, 0, 0.3));\n",
              "      fill: #FFFFFF;\n",
              "    }\n",
              "  </style>\n",
              "\n",
              "      <script>\n",
              "        const buttonEl =\n",
              "          document.querySelector('#df-b39c04ed-7f64-4be3-b0a6-c8d103d2fbb3 button.colab-df-convert');\n",
              "        buttonEl.style.display =\n",
              "          google.colab.kernel.accessAllowed ? 'block' : 'none';\n",
              "\n",
              "        async function convertToInteractive(key) {\n",
              "          const element = document.querySelector('#df-b39c04ed-7f64-4be3-b0a6-c8d103d2fbb3');\n",
              "          const dataTable =\n",
              "            await google.colab.kernel.invokeFunction('convertToInteractive',\n",
              "                                                     [key], {});\n",
              "          if (!dataTable) return;\n",
              "\n",
              "          const docLinkHtml = 'Like what you see? Visit the ' +\n",
              "            '<a target=\"_blank\" href=https://colab.research.google.com/notebooks/data_table.ipynb>data table notebook</a>'\n",
              "            + ' to learn more about interactive tables.';\n",
              "          element.innerHTML = '';\n",
              "          dataTable['output_type'] = 'display_data';\n",
              "          await google.colab.output.renderOutput(dataTable, element);\n",
              "          const docLink = document.createElement('div');\n",
              "          docLink.innerHTML = docLinkHtml;\n",
              "          element.appendChild(docLink);\n",
              "        }\n",
              "      </script>\n",
              "    </div>\n",
              "  </div>\n",
              "  "
            ]
          },
          "metadata": {},
          "execution_count": 4
        }
      ],
      "source": [
        "train_df.head()"
      ]
    },
    {
      "cell_type": "markdown",
      "metadata": {
        "id": "-ui4v_GeNcN7"
      },
      "source": [
        "# Checking for null values in data"
      ]
    },
    {
      "cell_type": "code",
      "execution_count": null,
      "metadata": {
        "execution": {
          "iopub.execute_input": "2021-08-04T03:03:34.483555Z",
          "iopub.status.busy": "2021-08-04T03:03:34.483129Z",
          "iopub.status.idle": "2021-08-04T03:03:34.524857Z",
          "shell.execute_reply": "2021-08-04T03:03:34.52372Z",
          "shell.execute_reply.started": "2021-08-04T03:03:34.483513Z"
        },
        "colab": {
          "base_uri": "https://localhost:8080/"
        },
        "id": "pY2CVFm5NcN9",
        "outputId": "d4226d59-9ae0-4110-82d2-285487026fd8"
      },
      "outputs": [
        {
          "output_type": "stream",
          "name": "stdout",
          "text": [
            "<class 'pandas.core.frame.DataFrame'>\n",
            "RangeIndex: 16000 entries, 0 to 15999\n",
            "Data columns (total 2 columns):\n",
            " #   Column  Non-Null Count  Dtype \n",
            "---  ------  --------------  ----- \n",
            " 0   text    16000 non-null  object\n",
            " 1   label   16000 non-null  object\n",
            "dtypes: object(2)\n",
            "memory usage: 250.1+ KB\n",
            "\n",
            "<class 'pandas.core.frame.DataFrame'>\n",
            "RangeIndex: 2000 entries, 0 to 1999\n",
            "Data columns (total 2 columns):\n",
            " #   Column  Non-Null Count  Dtype \n",
            "---  ------  --------------  ----- \n",
            " 0   text    2000 non-null   object\n",
            " 1   label   2000 non-null   object\n",
            "dtypes: object(2)\n",
            "memory usage: 31.4+ KB\n",
            "\n",
            "<class 'pandas.core.frame.DataFrame'>\n",
            "RangeIndex: 2000 entries, 0 to 1999\n",
            "Data columns (total 2 columns):\n",
            " #   Column  Non-Null Count  Dtype \n",
            "---  ------  --------------  ----- \n",
            " 0   text    2000 non-null   object\n",
            " 1   label   2000 non-null   object\n",
            "dtypes: object(2)\n",
            "memory usage: 31.4+ KB\n",
            "887\n"
          ]
        }
      ],
      "source": [
        "train_df.info()\n",
        "print()\n",
        "test_df.info()\n",
        "print()\n",
        "val_df.info()\n",
        "print(\"887\")"
      ]
    },
    {
      "cell_type": "markdown",
      "metadata": {
        "id": "Gq6dlhV-NcN_"
      },
      "source": [
        "# Distriution of labels in Train and Test data"
      ]
    },
    {
      "cell_type": "code",
      "execution_count": null,
      "metadata": {
        "execution": {
          "iopub.execute_input": "2021-08-04T03:03:34.526674Z",
          "iopub.status.busy": "2021-08-04T03:03:34.526271Z",
          "iopub.status.idle": "2021-08-04T03:03:34.537159Z",
          "shell.execute_reply": "2021-08-04T03:03:34.536419Z",
          "shell.execute_reply.started": "2021-08-04T03:03:34.526641Z"
        },
        "colab": {
          "base_uri": "https://localhost:8080/"
        },
        "id": "ROwk1AUiNcOB",
        "outputId": "7de9126d-47ca-4fc3-82c8-ac96aedf0df7"
      },
      "outputs": [
        {
          "output_type": "execute_result",
          "data": {
            "text/plain": [
              "joy         5362\n",
              "sadness     4666\n",
              "anger       2159\n",
              "fear        1937\n",
              "love        1304\n",
              "surprise     572\n",
              "Name: label, dtype: int64"
            ]
          },
          "metadata": {},
          "execution_count": 6
        }
      ],
      "source": [
        "train_df[\"label\"].value_counts()"
      ]
    },
    {
      "cell_type": "code",
      "execution_count": null,
      "metadata": {
        "execution": {
          "iopub.execute_input": "2021-08-04T03:03:34.538534Z",
          "iopub.status.busy": "2021-08-04T03:03:34.538125Z",
          "iopub.status.idle": "2021-08-04T03:03:34.55302Z",
          "shell.execute_reply": "2021-08-04T03:03:34.551928Z",
          "shell.execute_reply.started": "2021-08-04T03:03:34.538505Z"
        },
        "colab": {
          "base_uri": "https://localhost:8080/"
        },
        "id": "zzVECj07NcOE",
        "outputId": "dbf04bd3-33da-4024-acb0-5fa70f2bf086"
      },
      "outputs": [
        {
          "output_type": "execute_result",
          "data": {
            "text/plain": [
              "joy         695\n",
              "sadness     581\n",
              "anger       275\n",
              "fear        224\n",
              "love        159\n",
              "surprise     66\n",
              "Name: label, dtype: int64"
            ]
          },
          "metadata": {},
          "execution_count": 7
        }
      ],
      "source": [
        "test_df[\"label\"].value_counts()"
      ]
    },
    {
      "cell_type": "markdown",
      "metadata": {
        "id": "6Azday3oNcOG"
      },
      "source": [
        "# A sample text from the dataset"
      ]
    },
    {
      "cell_type": "code",
      "execution_count": null,
      "metadata": {
        "execution": {
          "iopub.execute_input": "2021-08-04T03:03:34.554511Z",
          "iopub.status.busy": "2021-08-04T03:03:34.554204Z",
          "iopub.status.idle": "2021-08-04T03:03:34.564291Z",
          "shell.execute_reply": "2021-08-04T03:03:34.563578Z",
          "shell.execute_reply.started": "2021-08-04T03:03:34.554485Z"
        },
        "colab": {
          "base_uri": "https://localhost:8080/"
        },
        "id": "msyJ4J1_NcOI",
        "outputId": "ef6d2803-fb11-4d6d-d212-85c475c6f1d6"
      },
      "outputs": [
        {
          "output_type": "stream",
          "name": "stdout",
          "text": [
            "i can go from feeling so hopeless to so damned hopeful just from being around someone who cares and is awake\n"
          ]
        }
      ],
      "source": [
        "sample = train_df[\"text\"][1]\n",
        "print(sample)"
      ]
    },
    {
      "cell_type": "markdown",
      "metadata": {
        "id": "0yZRuc8JNcOK"
      },
      "source": [
        "# Text Preprocessing\n",
        "The preprocessing is done in a few steps:\n",
        "* Lowercaseing the text\n",
        "* Removing Numbers\n",
        "* Removing Punctuations\n",
        "* Removing Stopwords"
      ]
    },
    {
      "cell_type": "code",
      "execution_count": null,
      "metadata": {
        "execution": {
          "iopub.execute_input": "2021-08-04T03:03:34.565735Z",
          "iopub.status.busy": "2021-08-04T03:03:34.565298Z",
          "iopub.status.idle": "2021-08-04T03:03:35.576325Z",
          "shell.execute_reply": "2021-08-04T03:03:35.575406Z",
          "shell.execute_reply.started": "2021-08-04T03:03:34.565707Z"
        },
        "colab": {
          "base_uri": "https://localhost:8080/"
        },
        "id": "Q2hgTPemNcOL",
        "outputId": "9cebb8b8-9cdf-4b34-e9b0-e1a762ee1e77"
      },
      "outputs": [
        {
          "output_type": "stream",
          "name": "stdout",
          "text": [
            "[nltk_data] Downloading package punkt to /root/nltk_data...\n",
            "[nltk_data]   Unzipping tokenizers/punkt.zip.\n",
            "[nltk_data] Downloading package stopwords to /root/nltk_data...\n",
            "[nltk_data]   Unzipping corpora/stopwords.zip.\n"
          ]
        }
      ],
      "source": [
        "import nltk\n",
        "from nltk.corpus import stopwords\n",
        "from nltk.tokenize import word_tokenize\n",
        "\n",
        "nltk.download('punkt')\n",
        "nltk.download('stopwords')\n",
        "\n",
        "stopwords = stopwords.words('english')"
      ]
    },
    {
      "cell_type": "code",
      "execution_count": null,
      "metadata": {
        "execution": {
          "iopub.execute_input": "2021-08-04T03:04:04.053544Z",
          "iopub.status.busy": "2021-08-04T03:04:04.052884Z",
          "iopub.status.idle": "2021-08-04T03:04:04.061622Z",
          "shell.execute_reply": "2021-08-04T03:04:04.060399Z",
          "shell.execute_reply.started": "2021-08-04T03:04:04.053499Z"
        },
        "id": "UsLg8mx2NcOM"
      },
      "outputs": [],
      "source": [
        "def lower_text(text):\n",
        "    return text.lower()\n",
        "\n",
        "def remove_number(text):\n",
        "    num = re.compile(r'[-+]?[.\\d]*[\\d]+[:,.\\d]*')\n",
        "    return num.sub(r'', text)\n",
        "\n",
        "def remove_punct(text):\n",
        "    punctuations = '@#!?+&*[]-%.:/();$=><|{}^' + \"'`\"\n",
        "    for p in punctuations:\n",
        "        text = text.replace(p, f' {p} ')\n",
        "    return text\n",
        "\n",
        "def remove_stopwords(text):\n",
        "    text = ' '.join([word for word in text.split() if word not in (stopwords)])\n",
        "    return text"
      ]
    },
    {
      "cell_type": "code",
      "execution_count": null,
      "metadata": {
        "execution": {
          "iopub.execute_input": "2021-08-04T03:03:58.370521Z",
          "iopub.status.busy": "2021-08-04T03:03:58.370157Z",
          "iopub.status.idle": "2021-08-04T03:03:58.37541Z",
          "shell.execute_reply": "2021-08-04T03:03:58.374417Z",
          "shell.execute_reply.started": "2021-08-04T03:03:58.37049Z"
        },
        "id": "ju_ypHbcNcOO"
      },
      "outputs": [],
      "source": [
        "def clean_text(text):\n",
        "    text = lower_text(text)\n",
        "    text = remove_number(text)\n",
        "    text = remove_punct(text)\n",
        "    text = remove_stopwords(text)\n",
        "\n",
        "    return text"
      ]
    },
    {
      "cell_type": "code",
      "execution_count": null,
      "metadata": {
        "execution": {
          "iopub.execute_input": "2021-08-04T03:04:06.106631Z",
          "iopub.status.busy": "2021-08-04T03:04:06.106239Z",
          "iopub.status.idle": "2021-08-04T03:04:07.393562Z",
          "shell.execute_reply": "2021-08-04T03:04:07.392574Z",
          "shell.execute_reply.started": "2021-08-04T03:04:06.106596Z"
        },
        "id": "qTiojELfNcOP"
      },
      "outputs": [],
      "source": [
        "train_df[\"clean_text\"] = train_df[\"text\"].apply(clean_text)\n",
        "test_df[\"clean_text\"] = test_df[\"text\"].apply(clean_text)\n",
        "val_df[\"clean_text\"] = val_df[\"text\"].apply(clean_text)"
      ]
    },
    {
      "cell_type": "markdown",
      "metadata": {
        "id": "pb_ZBQVHNcOQ"
      },
      "source": [
        "# Raw text vs Preprocessed Text"
      ]
    },
    {
      "cell_type": "code",
      "execution_count": null,
      "metadata": {
        "execution": {
          "iopub.execute_input": "2021-08-04T03:04:28.098586Z",
          "iopub.status.busy": "2021-08-04T03:04:28.098173Z",
          "iopub.status.idle": "2021-08-04T03:04:28.110078Z",
          "shell.execute_reply": "2021-08-04T03:04:28.109115Z",
          "shell.execute_reply.started": "2021-08-04T03:04:28.09855Z"
        },
        "colab": {
          "base_uri": "https://localhost:8080/",
          "height": 250
        },
        "id": "h3dk_gHDNcOR",
        "outputId": "241ebfb7-c704-4bba-f62e-4556d3471f00"
      },
      "outputs": [
        {
          "output_type": "execute_result",
          "data": {
            "text/plain": [
              "                                                text    label  \\\n",
              "0                            i didnt feel humiliated  sadness   \n",
              "1  i can go from feeling so hopeless to so damned...  sadness   \n",
              "2   im grabbing a minute to post i feel greedy wrong    anger   \n",
              "3  i am ever feeling nostalgic about the fireplac...     love   \n",
              "4                               i am feeling grouchy    anger   \n",
              "\n",
              "                                          clean_text  \n",
              "0                              didnt feel humiliated  \n",
              "1  go feeling hopeless damned hopeful around some...  \n",
              "2          im grabbing minute post feel greedy wrong  \n",
              "3  ever feeling nostalgic fireplace know still pr...  \n",
              "4                                    feeling grouchy  "
            ],
            "text/html": [
              "\n",
              "  <div id=\"df-8849c19f-9112-460b-beaa-2a7bef321126\">\n",
              "    <div class=\"colab-df-container\">\n",
              "      <div>\n",
              "<style scoped>\n",
              "    .dataframe tbody tr th:only-of-type {\n",
              "        vertical-align: middle;\n",
              "    }\n",
              "\n",
              "    .dataframe tbody tr th {\n",
              "        vertical-align: top;\n",
              "    }\n",
              "\n",
              "    .dataframe thead th {\n",
              "        text-align: right;\n",
              "    }\n",
              "</style>\n",
              "<table border=\"1\" class=\"dataframe\">\n",
              "  <thead>\n",
              "    <tr style=\"text-align: right;\">\n",
              "      <th></th>\n",
              "      <th>text</th>\n",
              "      <th>label</th>\n",
              "      <th>clean_text</th>\n",
              "    </tr>\n",
              "  </thead>\n",
              "  <tbody>\n",
              "    <tr>\n",
              "      <th>0</th>\n",
              "      <td>i didnt feel humiliated</td>\n",
              "      <td>sadness</td>\n",
              "      <td>didnt feel humiliated</td>\n",
              "    </tr>\n",
              "    <tr>\n",
              "      <th>1</th>\n",
              "      <td>i can go from feeling so hopeless to so damned...</td>\n",
              "      <td>sadness</td>\n",
              "      <td>go feeling hopeless damned hopeful around some...</td>\n",
              "    </tr>\n",
              "    <tr>\n",
              "      <th>2</th>\n",
              "      <td>im grabbing a minute to post i feel greedy wrong</td>\n",
              "      <td>anger</td>\n",
              "      <td>im grabbing minute post feel greedy wrong</td>\n",
              "    </tr>\n",
              "    <tr>\n",
              "      <th>3</th>\n",
              "      <td>i am ever feeling nostalgic about the fireplac...</td>\n",
              "      <td>love</td>\n",
              "      <td>ever feeling nostalgic fireplace know still pr...</td>\n",
              "    </tr>\n",
              "    <tr>\n",
              "      <th>4</th>\n",
              "      <td>i am feeling grouchy</td>\n",
              "      <td>anger</td>\n",
              "      <td>feeling grouchy</td>\n",
              "    </tr>\n",
              "  </tbody>\n",
              "</table>\n",
              "</div>\n",
              "      <button class=\"colab-df-convert\" onclick=\"convertToInteractive('df-8849c19f-9112-460b-beaa-2a7bef321126')\"\n",
              "              title=\"Convert this dataframe to an interactive table.\"\n",
              "              style=\"display:none;\">\n",
              "        \n",
              "  <svg xmlns=\"http://www.w3.org/2000/svg\" height=\"24px\"viewBox=\"0 0 24 24\"\n",
              "       width=\"24px\">\n",
              "    <path d=\"M0 0h24v24H0V0z\" fill=\"none\"/>\n",
              "    <path d=\"M18.56 5.44l.94 2.06.94-2.06 2.06-.94-2.06-.94-.94-2.06-.94 2.06-2.06.94zm-11 1L8.5 8.5l.94-2.06 2.06-.94-2.06-.94L8.5 2.5l-.94 2.06-2.06.94zm10 10l.94 2.06.94-2.06 2.06-.94-2.06-.94-.94-2.06-.94 2.06-2.06.94z\"/><path d=\"M17.41 7.96l-1.37-1.37c-.4-.4-.92-.59-1.43-.59-.52 0-1.04.2-1.43.59L10.3 9.45l-7.72 7.72c-.78.78-.78 2.05 0 2.83L4 21.41c.39.39.9.59 1.41.59.51 0 1.02-.2 1.41-.59l7.78-7.78 2.81-2.81c.8-.78.8-2.07 0-2.86zM5.41 20L4 18.59l7.72-7.72 1.47 1.35L5.41 20z\"/>\n",
              "  </svg>\n",
              "      </button>\n",
              "      \n",
              "  <style>\n",
              "    .colab-df-container {\n",
              "      display:flex;\n",
              "      flex-wrap:wrap;\n",
              "      gap: 12px;\n",
              "    }\n",
              "\n",
              "    .colab-df-convert {\n",
              "      background-color: #E8F0FE;\n",
              "      border: none;\n",
              "      border-radius: 50%;\n",
              "      cursor: pointer;\n",
              "      display: none;\n",
              "      fill: #1967D2;\n",
              "      height: 32px;\n",
              "      padding: 0 0 0 0;\n",
              "      width: 32px;\n",
              "    }\n",
              "\n",
              "    .colab-df-convert:hover {\n",
              "      background-color: #E2EBFA;\n",
              "      box-shadow: 0px 1px 2px rgba(60, 64, 67, 0.3), 0px 1px 3px 1px rgba(60, 64, 67, 0.15);\n",
              "      fill: #174EA6;\n",
              "    }\n",
              "\n",
              "    [theme=dark] .colab-df-convert {\n",
              "      background-color: #3B4455;\n",
              "      fill: #D2E3FC;\n",
              "    }\n",
              "\n",
              "    [theme=dark] .colab-df-convert:hover {\n",
              "      background-color: #434B5C;\n",
              "      box-shadow: 0px 1px 3px 1px rgba(0, 0, 0, 0.15);\n",
              "      filter: drop-shadow(0px 1px 2px rgba(0, 0, 0, 0.3));\n",
              "      fill: #FFFFFF;\n",
              "    }\n",
              "  </style>\n",
              "\n",
              "      <script>\n",
              "        const buttonEl =\n",
              "          document.querySelector('#df-8849c19f-9112-460b-beaa-2a7bef321126 button.colab-df-convert');\n",
              "        buttonEl.style.display =\n",
              "          google.colab.kernel.accessAllowed ? 'block' : 'none';\n",
              "\n",
              "        async function convertToInteractive(key) {\n",
              "          const element = document.querySelector('#df-8849c19f-9112-460b-beaa-2a7bef321126');\n",
              "          const dataTable =\n",
              "            await google.colab.kernel.invokeFunction('convertToInteractive',\n",
              "                                                     [key], {});\n",
              "          if (!dataTable) return;\n",
              "\n",
              "          const docLinkHtml = 'Like what you see? Visit the ' +\n",
              "            '<a target=\"_blank\" href=https://colab.research.google.com/notebooks/data_table.ipynb>data table notebook</a>'\n",
              "            + ' to learn more about interactive tables.';\n",
              "          element.innerHTML = '';\n",
              "          dataTable['output_type'] = 'display_data';\n",
              "          await google.colab.output.renderOutput(dataTable, element);\n",
              "          const docLink = document.createElement('div');\n",
              "          docLink.innerHTML = docLinkHtml;\n",
              "          element.appendChild(docLink);\n",
              "        }\n",
              "      </script>\n",
              "    </div>\n",
              "  </div>\n",
              "  "
            ]
          },
          "metadata": {},
          "execution_count": 13
        }
      ],
      "source": [
        "train_df.head()"
      ]
    },
    {
      "cell_type": "markdown",
      "metadata": {
        "id": "iGfzPbVwNcOS"
      },
      "source": [
        "# Label Encoding Labels\n",
        "This means replcing String objects as labels with integer values"
      ]
    },
    {
      "cell_type": "code",
      "execution_count": null,
      "metadata": {
        "execution": {
          "iopub.execute_input": "2021-08-04T03:06:19.36604Z",
          "iopub.status.busy": "2021-08-04T03:06:19.365484Z",
          "iopub.status.idle": "2021-08-04T03:06:19.380905Z",
          "shell.execute_reply": "2021-08-04T03:06:19.379817Z",
          "shell.execute_reply.started": "2021-08-04T03:06:19.36599Z"
        },
        "id": "PhNBfGhzNcOT"
      },
      "outputs": [],
      "source": [
        "from sklearn.preprocessing import LabelEncoder\n",
        "\n",
        "label_encoder = LabelEncoder()\n",
        "train_df[\"encoded_train_label\"] = label_encoder.fit_transform(train_df[\"label\"])\n",
        "val_df[\"encoded_val_label\"] = label_encoder.transform(val_df[\"label\"])\n",
        "test_df[\"encoded_test_label\"] = label_encoder.transform(test_df[\"label\"])"
      ]
    },
    {
      "cell_type": "code",
      "execution_count": null,
      "metadata": {
        "execution": {
          "iopub.execute_input": "2021-08-04T03:08:29.589213Z",
          "iopub.status.busy": "2021-08-04T03:08:29.588858Z",
          "iopub.status.idle": "2021-08-04T03:08:29.609651Z",
          "shell.execute_reply": "2021-08-04T03:08:29.608593Z",
          "shell.execute_reply.started": "2021-08-04T03:08:29.589183Z"
        },
        "colab": {
          "base_uri": "https://localhost:8080/",
          "height": 238
        },
        "id": "ugkVIdFtNcOV",
        "outputId": "883782fd-3159-4e02-c5b8-042921578000"
      },
      "outputs": [
        {
          "output_type": "execute_result",
          "data": {
            "text/plain": [
              "      label  encoded_train_label\n",
              "0   sadness                    4\n",
              "2     anger                    0\n",
              "3      love                    3\n",
              "6  surprise                    5\n",
              "7      fear                    1\n",
              "8       joy                    2"
            ],
            "text/html": [
              "\n",
              "  <div id=\"df-c7c85c8c-7ea4-4fb0-a47a-fc90b98c7a8c\">\n",
              "    <div class=\"colab-df-container\">\n",
              "      <div>\n",
              "<style scoped>\n",
              "    .dataframe tbody tr th:only-of-type {\n",
              "        vertical-align: middle;\n",
              "    }\n",
              "\n",
              "    .dataframe tbody tr th {\n",
              "        vertical-align: top;\n",
              "    }\n",
              "\n",
              "    .dataframe thead th {\n",
              "        text-align: right;\n",
              "    }\n",
              "</style>\n",
              "<table border=\"1\" class=\"dataframe\">\n",
              "  <thead>\n",
              "    <tr style=\"text-align: right;\">\n",
              "      <th></th>\n",
              "      <th>label</th>\n",
              "      <th>encoded_train_label</th>\n",
              "    </tr>\n",
              "  </thead>\n",
              "  <tbody>\n",
              "    <tr>\n",
              "      <th>0</th>\n",
              "      <td>sadness</td>\n",
              "      <td>4</td>\n",
              "    </tr>\n",
              "    <tr>\n",
              "      <th>2</th>\n",
              "      <td>anger</td>\n",
              "      <td>0</td>\n",
              "    </tr>\n",
              "    <tr>\n",
              "      <th>3</th>\n",
              "      <td>love</td>\n",
              "      <td>3</td>\n",
              "    </tr>\n",
              "    <tr>\n",
              "      <th>6</th>\n",
              "      <td>surprise</td>\n",
              "      <td>5</td>\n",
              "    </tr>\n",
              "    <tr>\n",
              "      <th>7</th>\n",
              "      <td>fear</td>\n",
              "      <td>1</td>\n",
              "    </tr>\n",
              "    <tr>\n",
              "      <th>8</th>\n",
              "      <td>joy</td>\n",
              "      <td>2</td>\n",
              "    </tr>\n",
              "  </tbody>\n",
              "</table>\n",
              "</div>\n",
              "      <button class=\"colab-df-convert\" onclick=\"convertToInteractive('df-c7c85c8c-7ea4-4fb0-a47a-fc90b98c7a8c')\"\n",
              "              title=\"Convert this dataframe to an interactive table.\"\n",
              "              style=\"display:none;\">\n",
              "        \n",
              "  <svg xmlns=\"http://www.w3.org/2000/svg\" height=\"24px\"viewBox=\"0 0 24 24\"\n",
              "       width=\"24px\">\n",
              "    <path d=\"M0 0h24v24H0V0z\" fill=\"none\"/>\n",
              "    <path d=\"M18.56 5.44l.94 2.06.94-2.06 2.06-.94-2.06-.94-.94-2.06-.94 2.06-2.06.94zm-11 1L8.5 8.5l.94-2.06 2.06-.94-2.06-.94L8.5 2.5l-.94 2.06-2.06.94zm10 10l.94 2.06.94-2.06 2.06-.94-2.06-.94-.94-2.06-.94 2.06-2.06.94z\"/><path d=\"M17.41 7.96l-1.37-1.37c-.4-.4-.92-.59-1.43-.59-.52 0-1.04.2-1.43.59L10.3 9.45l-7.72 7.72c-.78.78-.78 2.05 0 2.83L4 21.41c.39.39.9.59 1.41.59.51 0 1.02-.2 1.41-.59l7.78-7.78 2.81-2.81c.8-.78.8-2.07 0-2.86zM5.41 20L4 18.59l7.72-7.72 1.47 1.35L5.41 20z\"/>\n",
              "  </svg>\n",
              "      </button>\n",
              "      \n",
              "  <style>\n",
              "    .colab-df-container {\n",
              "      display:flex;\n",
              "      flex-wrap:wrap;\n",
              "      gap: 12px;\n",
              "    }\n",
              "\n",
              "    .colab-df-convert {\n",
              "      background-color: #E8F0FE;\n",
              "      border: none;\n",
              "      border-radius: 50%;\n",
              "      cursor: pointer;\n",
              "      display: none;\n",
              "      fill: #1967D2;\n",
              "      height: 32px;\n",
              "      padding: 0 0 0 0;\n",
              "      width: 32px;\n",
              "    }\n",
              "\n",
              "    .colab-df-convert:hover {\n",
              "      background-color: #E2EBFA;\n",
              "      box-shadow: 0px 1px 2px rgba(60, 64, 67, 0.3), 0px 1px 3px 1px rgba(60, 64, 67, 0.15);\n",
              "      fill: #174EA6;\n",
              "    }\n",
              "\n",
              "    [theme=dark] .colab-df-convert {\n",
              "      background-color: #3B4455;\n",
              "      fill: #D2E3FC;\n",
              "    }\n",
              "\n",
              "    [theme=dark] .colab-df-convert:hover {\n",
              "      background-color: #434B5C;\n",
              "      box-shadow: 0px 1px 3px 1px rgba(0, 0, 0, 0.15);\n",
              "      filter: drop-shadow(0px 1px 2px rgba(0, 0, 0, 0.3));\n",
              "      fill: #FFFFFF;\n",
              "    }\n",
              "  </style>\n",
              "\n",
              "      <script>\n",
              "        const buttonEl =\n",
              "          document.querySelector('#df-c7c85c8c-7ea4-4fb0-a47a-fc90b98c7a8c button.colab-df-convert');\n",
              "        buttonEl.style.display =\n",
              "          google.colab.kernel.accessAllowed ? 'block' : 'none';\n",
              "\n",
              "        async function convertToInteractive(key) {\n",
              "          const element = document.querySelector('#df-c7c85c8c-7ea4-4fb0-a47a-fc90b98c7a8c');\n",
              "          const dataTable =\n",
              "            await google.colab.kernel.invokeFunction('convertToInteractive',\n",
              "                                                     [key], {});\n",
              "          if (!dataTable) return;\n",
              "\n",
              "          const docLinkHtml = 'Like what you see? Visit the ' +\n",
              "            '<a target=\"_blank\" href=https://colab.research.google.com/notebooks/data_table.ipynb>data table notebook</a>'\n",
              "            + ' to learn more about interactive tables.';\n",
              "          element.innerHTML = '';\n",
              "          dataTable['output_type'] = 'display_data';\n",
              "          await google.colab.output.renderOutput(dataTable, element);\n",
              "          const docLink = document.createElement('div');\n",
              "          docLink.innerHTML = docLinkHtml;\n",
              "          element.appendChild(docLink);\n",
              "        }\n",
              "      </script>\n",
              "    </div>\n",
              "  </div>\n",
              "  "
            ]
          },
          "metadata": {},
          "execution_count": 15
        }
      ],
      "source": [
        "train_df[['label', 'encoded_train_label']].drop_duplicates(keep='first')"
      ]
    },
    {
      "cell_type": "code",
      "execution_count": null,
      "metadata": {
        "execution": {
          "iopub.execute_input": "2021-08-04T03:09:35.192544Z",
          "iopub.status.busy": "2021-08-04T03:09:35.192156Z",
          "iopub.status.idle": "2021-08-04T03:09:35.198675Z",
          "shell.execute_reply": "2021-08-04T03:09:35.197791Z",
          "shell.execute_reply.started": "2021-08-04T03:09:35.192511Z"
        },
        "id": "xpiFop8eNcOV"
      },
      "outputs": [],
      "source": [
        "x_train, x_test, y_train, y_test = train_df[\"clean_text\"], val_df[\"clean_text\"], train_df[\"encoded_train_label\"], val_df[\"encoded_val_label\"]"
      ]
    },
    {
      "cell_type": "code",
      "execution_count": null,
      "metadata": {
        "execution": {
          "iopub.execute_input": "2021-08-04T03:09:53.813196Z",
          "iopub.status.busy": "2021-08-04T03:09:53.812644Z",
          "iopub.status.idle": "2021-08-04T03:09:59.608184Z",
          "shell.execute_reply": "2021-08-04T03:09:59.607193Z",
          "shell.execute_reply.started": "2021-08-04T03:09:53.813164Z"
        },
        "id": "_1mBCnIkNcOW"
      },
      "outputs": [],
      "source": [
        "from keras.utils import np_utils\n",
        "from keras.preprocessing.text import Tokenizer\n",
        "from keras.preprocessing.sequence import pad_sequences\n",
        "\n",
        "import tensorflow as tf\n",
        "from keras import layers\n",
        "from keras.models import Sequential\n",
        "\n",
        "EPOCHS= 30\n",
        "act= \"swish\"\n",
        "opt= tf.keras.optimizers.Adam(learning_rate=0.001)"
      ]
    },
    {
      "cell_type": "markdown",
      "metadata": {
        "id": "cwVOKX2CNcOY"
      },
      "source": [
        "# Converting texts to vectors via tokenization"
      ]
    },
    {
      "cell_type": "code",
      "execution_count": null,
      "metadata": {
        "execution": {
          "iopub.execute_input": "2021-08-04T03:10:31.168781Z",
          "iopub.status.busy": "2021-08-04T03:10:31.168398Z",
          "iopub.status.idle": "2021-08-04T03:10:31.720648Z",
          "shell.execute_reply": "2021-08-04T03:10:31.719691Z",
          "shell.execute_reply.started": "2021-08-04T03:10:31.16874Z"
        },
        "id": "SQfKnbkwNcOZ"
      },
      "outputs": [],
      "source": [
        "tokenizer = Tokenizer()\n",
        "tokenizer.fit_on_texts(x_train)\n",
        "\n",
        "X_train = tokenizer.texts_to_sequences(x_train)\n",
        "X_test = tokenizer.texts_to_sequences(x_test)\n",
        "TEST = tokenizer.texts_to_sequences(test_df[\"clean_text\"])\n",
        "\n",
        "vocab_size = len(tokenizer.word_index) + 1"
      ]
    },
    {
      "cell_type": "markdown",
      "metadata": {
        "id": "-uH8GLk_NcOa"
      },
      "source": [
        "# Calculating maximum length of a vector"
      ]
    },
    {
      "cell_type": "code",
      "execution_count": null,
      "metadata": {
        "execution": {
          "iopub.execute_input": "2021-08-04T03:10:39.932679Z",
          "iopub.status.busy": "2021-08-04T03:10:39.932303Z",
          "iopub.status.idle": "2021-08-04T03:10:39.94418Z",
          "shell.execute_reply": "2021-08-04T03:10:39.943222Z",
          "shell.execute_reply.started": "2021-08-04T03:10:39.93265Z"
        },
        "colab": {
          "base_uri": "https://localhost:8080/"
        },
        "id": "G56OR-YENcOb",
        "outputId": "8dc615d2-fbdf-4c89-bf3a-3a6b8a230d5b"
      },
      "outputs": [
        {
          "output_type": "stream",
          "name": "stdout",
          "text": [
            "Max len: 35\n"
          ]
        }
      ],
      "source": [
        "lens_train = [len(i) for i in X_train]\n",
        "lens_test = [len(i) for i in X_test]\n",
        "lens = lens_train + lens_test\n",
        "\n",
        "maxlen = np.max(lens)\n",
        "\n",
        "print('Max len:', maxlen)"
      ]
    },
    {
      "cell_type": "markdown",
      "metadata": {
        "id": "ppNCyXgXNcOc"
      },
      "source": [
        "# Zero padding every vector so that they are the same size"
      ]
    },
    {
      "cell_type": "code",
      "execution_count": null,
      "metadata": {
        "execution": {
          "iopub.execute_input": "2021-08-04T03:10:48.215753Z",
          "iopub.status.busy": "2021-08-04T03:10:48.215317Z",
          "iopub.status.idle": "2021-08-04T03:10:48.384717Z",
          "shell.execute_reply": "2021-08-04T03:10:48.383675Z",
          "shell.execute_reply.started": "2021-08-04T03:10:48.215718Z"
        },
        "id": "TLxvQE-fNcOc"
      },
      "outputs": [],
      "source": [
        "X_train = pad_sequences(X_train, padding='post', maxlen=maxlen)\n",
        "X_test = pad_sequences(X_test, padding='post', maxlen=maxlen)\n",
        "TEST = pad_sequences(TEST, padding='post', maxlen=maxlen)"
      ]
    },
    {
      "cell_type": "markdown",
      "metadata": {
        "id": "iQIloj9aNcOd"
      },
      "source": [
        "# One Hot Encoding integer labels"
      ]
    },
    {
      "cell_type": "code",
      "execution_count": null,
      "metadata": {
        "execution": {
          "iopub.execute_input": "2021-08-04T03:10:55.965414Z",
          "iopub.status.busy": "2021-08-04T03:10:55.965019Z",
          "iopub.status.idle": "2021-08-04T03:10:55.970595Z",
          "shell.execute_reply": "2021-08-04T03:10:55.969855Z",
          "shell.execute_reply.started": "2021-08-04T03:10:55.965378Z"
        },
        "id": "LSaNG5rANcOd"
      },
      "outputs": [],
      "source": [
        "dummy_y_test = np_utils.to_categorical(y_test)\n",
        "dummy_y_train = np_utils.to_categorical(y_train)"
      ]
    },
    {
      "cell_type": "markdown",
      "metadata": {
        "id": "va9A25xPNcOe"
      },
      "source": [
        "# Reading GloVe"
      ]
    },
    {
      "cell_type": "code",
      "execution_count": null,
      "metadata": {
        "execution": {
          "iopub.execute_input": "2021-08-04T03:16:51.415027Z",
          "iopub.status.busy": "2021-08-04T03:16:51.414622Z",
          "iopub.status.idle": "2021-08-04T03:16:51.422844Z",
          "shell.execute_reply": "2021-08-04T03:16:51.421899Z",
          "shell.execute_reply.started": "2021-08-04T03:16:51.414993Z"
        },
        "colab": {
          "base_uri": "https://localhost:8080/"
        },
        "id": "JZeLysvGNcOe",
        "outputId": "45b410d0-0c78-4b2c-b48a-eb2d0c7f44cd"
      },
      "outputs": [
        {
          "output_type": "stream",
          "name": "stdout",
          "text": [
            "done\n"
          ]
        }
      ],
      "source": [
        "def get_embedding_vectors(tokenizer, dim=300):\n",
        "    embedding_index = {}\n",
        "    with open('/content/drive/My Drive/paper/glove.840B.300d.txt','r',encoding='utf-8') as f:\n",
        "        for line in tqdm.tqdm(f, \"Reading GloVe\"):\n",
        "            values = line.split()\n",
        "            word = ''.join(values[:-300])\n",
        "            vectors = np.asarray(values[-300:], dtype='float32')\n",
        "            embedding_index[word] = vectors\n",
        "\n",
        "    word_index = tokenizer.word_index\n",
        "    embedding_matrix = np.zeros((len(word_index)+1, dim))\n",
        "    for word, i in word_index.items():\n",
        "        embedding_vector = embedding_index.get(word)\n",
        "        if embedding_vector is not None:\n",
        "            # words not found will be 0s\n",
        "            embedding_matrix[i] = embedding_vector\n",
        "\n",
        "    return embedding_matrix\n",
        "print(\"done\")"
      ]
    },
    {
      "cell_type": "code",
      "execution_count": null,
      "metadata": {
        "execution": {
          "iopub.execute_input": "2021-08-04T03:16:54.573019Z",
          "iopub.status.busy": "2021-08-04T03:16:54.57265Z",
          "iopub.status.idle": "2021-08-04T03:21:50.855734Z",
          "shell.execute_reply": "2021-08-04T03:21:50.854829Z",
          "shell.execute_reply.started": "2021-08-04T03:16:54.572983Z"
        },
        "colab": {
          "base_uri": "https://localhost:8080/"
        },
        "id": "QzqFqd42NcOf",
        "outputId": "df39bd4a-42e3-4468-f4a9-464a6b8f1aae"
      },
      "outputs": [
        {
          "output_type": "stream",
          "name": "stderr",
          "text": [
            "Reading GloVe: 2196018it [03:44, 9782.87it/s] \n"
          ]
        }
      ],
      "source": [
        "embedding_matrix = get_embedding_vectors(tokenizer)"
      ]
    },
    {
      "cell_type": "markdown",
      "metadata": {
        "id": "Qh_lI-q0NcOf"
      },
      "source": [
        "# Defining CNN-BiLSTM model"
      ]
    },
    {
      "cell_type": "code",
      "execution_count": null,
      "metadata": {
        "execution": {
          "iopub.execute_input": "2021-08-04T03:21:50.857695Z",
          "iopub.status.busy": "2021-08-04T03:21:50.857348Z",
          "iopub.status.idle": "2021-08-04T03:21:51.427077Z",
          "shell.execute_reply": "2021-08-04T03:21:51.426074Z",
          "shell.execute_reply.started": "2021-08-04T03:21:50.857668Z"
        },
        "colab": {
          "base_uri": "https://localhost:8080/"
        },
        "id": "dPE-VaxmNcOg",
        "outputId": "47371d7d-6670-4c67-fbf1-9ef35040ac2f"
      },
      "outputs": [
        {
          "output_type": "stream",
          "name": "stdout",
          "text": [
            "Model: \"sequential\"\n",
            "_________________________________________________________________\n",
            " Layer (type)                Output Shape              Param #   \n",
            "=================================================================\n",
            " embedding (Embedding)       (None, 35, 300)           4519500   \n",
            "                                                                 \n",
            " dropout (Dropout)           (None, 35, 300)           0         \n",
            "                                                                 \n",
            " conv1d (Conv1D)             (None, 33, 32)            28832     \n",
            "                                                                 \n",
            " max_pooling1d (MaxPooling1D  (None, 11, 32)           0         \n",
            " )                                                               \n",
            "                                                                 \n",
            " dropout_1 (Dropout)         (None, 11, 32)            0         \n",
            "                                                                 \n",
            " conv1d_1 (Conv1D)           (None, 9, 32)             3104      \n",
            "                                                                 \n",
            " max_pooling1d_1 (MaxPooling  (None, 3, 32)            0         \n",
            " 1D)                                                             \n",
            "                                                                 \n",
            " dropout_2 (Dropout)         (None, 3, 32)             0         \n",
            "                                                                 \n",
            " bidirectional (Bidirectiona  (None, 512)              591872    \n",
            " l)                                                              \n",
            "                                                                 \n",
            " dropout_3 (Dropout)         (None, 512)               0         \n",
            "                                                                 \n",
            " dense (Dense)               (None, 256)               131328    \n",
            "                                                                 \n",
            " dropout_4 (Dropout)         (None, 256)               0         \n",
            "                                                                 \n",
            " dense_1 (Dense)             (None, 6)                 1542      \n",
            "                                                                 \n",
            "=================================================================\n",
            "Total params: 5,276,178\n",
            "Trainable params: 5,276,178\n",
            "Non-trainable params: 0\n",
            "_________________________________________________________________\n"
          ]
        }
      ],
      "source": [
        "embedding_dim = 300\n",
        "\n",
        "model = Sequential()\n",
        "model.add(layers.Embedding(input_dim=vocab_size, output_dim=embedding_dim, weights = [embedding_matrix], input_length=maxlen))\n",
        "model.add(layers.Dropout(0.3))\n",
        "model.add(layers.Conv1D(filters=32, kernel_size=3, activation=act))\n",
        "model.add(layers.MaxPool1D(pool_size=3))\n",
        "model.add(layers.Dropout(0.3))\n",
        "model.add(layers.Conv1D(filters=32, kernel_size=3, activation=act))\n",
        "model.add(layers.MaxPool1D(pool_size=3))\n",
        "model.add(layers.Dropout(0.3))\n",
        "model.add(layers.Bidirectional(layers.LSTM(256, recurrent_dropout=0.3)))\n",
        "model.add(layers.Dropout(0.3))\n",
        "model.add(layers.Dense(256,activation=act))\n",
        "model.add(layers.Dropout(0.3))\n",
        "model.add(layers.Dense(6, activation=\"softmax\"))\n",
        "model.compile(optimizer=opt, loss=\"categorical_crossentropy\",metrics=[\"accuracy\"])\n",
        "model.summary()"
      ]
    },
    {
      "cell_type": "code",
      "execution_count": null,
      "metadata": {
        "execution": {
          "iopub.execute_input": "2021-08-04T03:21:51.428965Z",
          "iopub.status.busy": "2021-08-04T03:21:51.428669Z",
          "iopub.status.idle": "2021-08-04T03:21:51.433784Z",
          "shell.execute_reply": "2021-08-04T03:21:51.432938Z",
          "shell.execute_reply.started": "2021-08-04T03:21:51.428937Z"
        },
        "id": "he3NcKGeNcOh"
      },
      "outputs": [],
      "source": [
        "checkpoint_filepath = './Checkpoint/checkpoint'\n",
        "model_checkpoint_callback = tf.keras.callbacks.ModelCheckpoint(\n",
        "    filepath=checkpoint_filepath,\n",
        "    save_weights_only=True,\n",
        "    monitor='val_accuracy',\n",
        "    mode='max',\n",
        "    save_best_only=True)"
      ]
    },
    {
      "cell_type": "code",
      "execution_count": null,
      "metadata": {
        "execution": {
          "iopub.execute_input": "2021-08-04T03:21:51.435268Z",
          "iopub.status.busy": "2021-08-04T03:21:51.434994Z",
          "iopub.status.idle": "2021-08-04T03:27:22.05981Z",
          "shell.execute_reply": "2021-08-04T03:27:22.058532Z",
          "shell.execute_reply.started": "2021-08-04T03:21:51.435244Z"
        },
        "colab": {
          "base_uri": "https://localhost:8080/"
        },
        "id": "9fyl9VVaNcOh",
        "outputId": "7fca851d-923d-46b7-d605-c8d405f6e5ff"
      },
      "outputs": [
        {
          "output_type": "stream",
          "name": "stdout",
          "text": [
            "Epoch 1/30\n",
            "125/125 [==============================] - 29s 194ms/step - loss: 1.3970 - accuracy: 0.4542 - val_loss: 0.9570 - val_accuracy: 0.6010\n",
            "Epoch 2/30\n",
            "125/125 [==============================] - 25s 198ms/step - loss: 0.8051 - accuracy: 0.6948 - val_loss: 0.4390 - val_accuracy: 0.8585\n",
            "Epoch 3/30\n",
            "125/125 [==============================] - 22s 176ms/step - loss: 0.4705 - accuracy: 0.8317 - val_loss: 0.2863 - val_accuracy: 0.8880\n",
            "Epoch 4/30\n",
            "125/125 [==============================] - 24s 191ms/step - loss: 0.3392 - accuracy: 0.8793 - val_loss: 0.2537 - val_accuracy: 0.9070\n",
            "Epoch 5/30\n",
            "125/125 [==============================] - 21s 171ms/step - loss: 0.2663 - accuracy: 0.9075 - val_loss: 0.2299 - val_accuracy: 0.9185\n",
            "Epoch 6/30\n",
            "125/125 [==============================] - 23s 188ms/step - loss: 0.2304 - accuracy: 0.9195 - val_loss: 0.2380 - val_accuracy: 0.9155\n",
            "Epoch 7/30\n",
            "125/125 [==============================] - 23s 187ms/step - loss: 0.2055 - accuracy: 0.9264 - val_loss: 0.2310 - val_accuracy: 0.9165\n",
            "Epoch 8/30\n",
            "125/125 [==============================] - 23s 185ms/step - loss: 0.1866 - accuracy: 0.9331 - val_loss: 0.2208 - val_accuracy: 0.9205\n",
            "Epoch 9/30\n",
            "125/125 [==============================] - 22s 179ms/step - loss: 0.1623 - accuracy: 0.9427 - val_loss: 0.2355 - val_accuracy: 0.9140\n",
            "Epoch 10/30\n",
            "125/125 [==============================] - 22s 180ms/step - loss: 0.1492 - accuracy: 0.9489 - val_loss: 0.2518 - val_accuracy: 0.9150\n",
            "Epoch 11/30\n",
            "125/125 [==============================] - 22s 180ms/step - loss: 0.1352 - accuracy: 0.9511 - val_loss: 0.2651 - val_accuracy: 0.9125\n",
            "Epoch 12/30\n",
            "125/125 [==============================] - 30s 244ms/step - loss: 0.1240 - accuracy: 0.9566 - val_loss: 0.2556 - val_accuracy: 0.9150\n",
            "Epoch 13/30\n",
            "125/125 [==============================] - 24s 195ms/step - loss: 0.1250 - accuracy: 0.9546 - val_loss: 0.2458 - val_accuracy: 0.9145\n",
            "Epoch 14/30\n",
            "125/125 [==============================] - 25s 197ms/step - loss: 0.1152 - accuracy: 0.9593 - val_loss: 0.2495 - val_accuracy: 0.9170\n",
            "Epoch 15/30\n",
            "125/125 [==============================] - 24s 191ms/step - loss: 0.1050 - accuracy: 0.9609 - val_loss: 0.2540 - val_accuracy: 0.9200\n",
            "Epoch 16/30\n",
            "125/125 [==============================] - 26s 206ms/step - loss: 0.0981 - accuracy: 0.9635 - val_loss: 0.2612 - val_accuracy: 0.9155\n",
            "Epoch 17/30\n",
            "125/125 [==============================] - 25s 196ms/step - loss: 0.0887 - accuracy: 0.9676 - val_loss: 0.2677 - val_accuracy: 0.9185\n",
            "Epoch 18/30\n",
            "125/125 [==============================] - 24s 196ms/step - loss: 0.0887 - accuracy: 0.9674 - val_loss: 0.2715 - val_accuracy: 0.9160\n",
            "Epoch 19/30\n",
            "125/125 [==============================] - 26s 211ms/step - loss: 0.0834 - accuracy: 0.9696 - val_loss: 0.2883 - val_accuracy: 0.9125\n",
            "Epoch 20/30\n",
            "125/125 [==============================] - 25s 197ms/step - loss: 0.0798 - accuracy: 0.9732 - val_loss: 0.2764 - val_accuracy: 0.9140\n",
            "Epoch 21/30\n",
            "125/125 [==============================] - 25s 202ms/step - loss: 0.0762 - accuracy: 0.9739 - val_loss: 0.2780 - val_accuracy: 0.9180\n",
            "Epoch 22/30\n",
            "125/125 [==============================] - 26s 206ms/step - loss: 0.0734 - accuracy: 0.9752 - val_loss: 0.2901 - val_accuracy: 0.9165\n",
            "Epoch 23/30\n",
            "125/125 [==============================] - 24s 196ms/step - loss: 0.0675 - accuracy: 0.9761 - val_loss: 0.2845 - val_accuracy: 0.9140\n",
            "Epoch 24/30\n",
            "125/125 [==============================] - 25s 203ms/step - loss: 0.0637 - accuracy: 0.9772 - val_loss: 0.2970 - val_accuracy: 0.9170\n",
            "Epoch 25/30\n",
            "125/125 [==============================] - 24s 194ms/step - loss: 0.0664 - accuracy: 0.9780 - val_loss: 0.3078 - val_accuracy: 0.9175\n",
            "Epoch 26/30\n",
            "125/125 [==============================] - 25s 201ms/step - loss: 0.0567 - accuracy: 0.9803 - val_loss: 0.3075 - val_accuracy: 0.9145\n",
            "Epoch 27/30\n",
            "125/125 [==============================] - 25s 203ms/step - loss: 0.0628 - accuracy: 0.9777 - val_loss: 0.3211 - val_accuracy: 0.9175\n",
            "Epoch 28/30\n",
            "125/125 [==============================] - 25s 197ms/step - loss: 0.0607 - accuracy: 0.9787 - val_loss: 0.2889 - val_accuracy: 0.9115\n",
            "Epoch 29/30\n",
            "125/125 [==============================] - 24s 195ms/step - loss: 0.0556 - accuracy: 0.9805 - val_loss: 0.3208 - val_accuracy: 0.9145\n",
            "Epoch 30/30\n",
            "125/125 [==============================] - 25s 200ms/step - loss: 0.0515 - accuracy: 0.9830 - val_loss: 0.3195 - val_accuracy: 0.9185\n",
            "Training Accuracy: 0.9949\n",
            "Testing Accuracy:  0.9185\n"
          ]
        }
      ],
      "source": [
        "history = model.fit(X_train, dummy_y_train, epochs=EPOCHS, verbose=1, validation_data=(X_test, dummy_y_test), batch_size=128, callbacks=[model_checkpoint_callback])\n",
        "loss, accuracy = model.evaluate(X_train, dummy_y_train, verbose=0)\n",
        "print(\"Training Accuracy: {:.4f}\".format(accuracy))\n",
        "loss, accuracy = model.evaluate(X_test, dummy_y_test, verbose=0)\n",
        "print(\"Testing Accuracy:  {:.4f}\".format(accuracy))"
      ]
    },
    {
      "cell_type": "code",
      "execution_count": null,
      "metadata": {
        "execution": {
          "iopub.execute_input": "2021-08-04T03:27:32.584427Z",
          "iopub.status.busy": "2021-08-04T03:27:32.584017Z",
          "iopub.status.idle": "2021-08-04T03:27:32.592881Z",
          "shell.execute_reply": "2021-08-04T03:27:32.592105Z",
          "shell.execute_reply.started": "2021-08-04T03:27:32.584379Z"
        },
        "id": "ncMHtUa6NcOi"
      },
      "outputs": [],
      "source": [
        "def PlotGraph(history):\n",
        "    acc = history.history['accuracy']\n",
        "    val_acc = history.history['val_accuracy']\n",
        "    loss = history.history['loss']\n",
        "    val_loss = history.history['val_loss']\n",
        "    x = range(1, len(acc) + 1)\n",
        "\n",
        "    plt.figure(figsize=(12, 5))\n",
        "    plt.subplot(1, 2, 1)\n",
        "    plt.plot(x, acc, 'g', label='Training acc')\n",
        "    plt.plot(x, val_acc, 'b', label='Validation acc')\n",
        "    plt.title('Training and validation accuracy')\n",
        "    plt.legend()\n",
        "    plt.subplot(1, 2, 2)\n",
        "    plt.plot(x, loss, 'g', label='Training loss')\n",
        "    plt.plot(x, val_loss, 'b', label='Validation loss')\n",
        "    plt.title('Training and validation loss')\n",
        "    plt.legend()"
      ]
    },
    {
      "cell_type": "code",
      "execution_count": null,
      "metadata": {
        "execution": {
          "iopub.execute_input": "2021-08-04T03:27:34.713849Z",
          "iopub.status.busy": "2021-08-04T03:27:34.713324Z",
          "iopub.status.idle": "2021-08-04T03:27:35.155616Z",
          "shell.execute_reply": "2021-08-04T03:27:35.154472Z",
          "shell.execute_reply.started": "2021-08-04T03:27:34.713816Z"
        },
        "id": "NJ2dvRRkNcOj",
        "colab": {
          "base_uri": "https://localhost:8080/",
          "height": 336
        },
        "outputId": "852e221a-1d47-4260-8321-85fb31a0dbfa"
      },
      "outputs": [
        {
          "output_type": "display_data",
          "data": {
            "text/plain": [
              "<Figure size 864x360 with 2 Axes>"
            ],
            "image/png": "[encoded data removed]"
          },
          "metadata": {
            "needs_background": "light"
          }
        }
      ],
      "source": [
        "PlotGraph(history)"
      ]
    },
    {
      "cell_type": "code",
      "execution_count": null,
      "metadata": {
        "execution": {
          "iopub.execute_input": "2021-08-04T03:30:51.822807Z",
          "iopub.status.busy": "2021-08-04T03:30:51.822446Z",
          "iopub.status.idle": "2021-08-04T03:30:51.828484Z",
          "shell.execute_reply": "2021-08-04T03:30:51.82722Z",
          "shell.execute_reply.started": "2021-08-04T03:30:51.822776Z"
        },
        "id": "aX0k_oDdNcOk",
        "colab": {
          "base_uri": "https://localhost:8080/"
        },
        "outputId": "5e9b03a0-e35f-48d6-cfc7-dcf205ed871c"
      },
      "outputs": [
        {
          "output_type": "stream",
          "name": "stdout",
          "text": [
            "Best Accuracy Achieved by Model: 0.9204999804496765\n"
          ]
        }
      ],
      "source": [
        "print(f\"Best Accuracy Achieved by Model: {max(history.history['val_accuracy'])}\")"
      ]
    },
    {
      "cell_type": "code",
      "execution_count": null,
      "metadata": {
        "execution": {
          "iopub.execute_input": "2021-08-04T03:27:39.092139Z",
          "iopub.status.busy": "2021-08-04T03:27:39.091773Z",
          "iopub.status.idle": "2021-08-04T03:27:39.237838Z",
          "shell.execute_reply": "2021-08-04T03:27:39.236751Z",
          "shell.execute_reply.started": "2021-08-04T03:27:39.092107Z"
        },
        "id": "gVnV3NWlNcOl",
        "colab": {
          "base_uri": "https://localhost:8080/"
        },
        "outputId": "e4686c33-8b15-4efd-e1f8-8a5269838d85"
      },
      "outputs": [
        {
          "output_type": "execute_result",
          "data": {
            "text/plain": [
              "<tensorflow.python.training.tracking.util.CheckpointLoadStatus at 0x7fca9b645890>"
            ]
          },
          "metadata": {},
          "execution_count": 30
        }
      ],
      "source": [
        "model.load_weights(checkpoint_filepath)"
      ]
    },
    {
      "cell_type": "code",
      "execution_count": null,
      "metadata": {
        "execution": {
          "iopub.execute_input": "2021-08-04T03:27:40.8594Z",
          "iopub.status.busy": "2021-08-04T03:27:40.859007Z",
          "iopub.status.idle": "2021-08-04T03:27:41.768264Z",
          "shell.execute_reply": "2021-08-04T03:27:41.767431Z",
          "shell.execute_reply.started": "2021-08-04T03:27:40.859367Z"
        },
        "id": "m4rx921jNcOm",
        "colab": {
          "base_uri": "https://localhost:8080/"
        },
        "outputId": "43b9c971-a77b-4dc9-8ea1-f460d6175283"
      },
      "outputs": [
        {
          "output_type": "execute_result",
          "data": {
            "text/plain": [
              "array([4, 4, 4, ..., 2, 2, 5])"
            ]
          },
          "metadata": {},
          "execution_count": 31
        }
      ],
      "source": [
        "predict = model.predict(TEST)\n",
        "predict_class = np.argmax(predict, axis=1)\n",
        "predict_class = np.array(predict_class)\n",
        "predict_class"
      ]
    },
    {
      "cell_type": "markdown",
      "metadata": {
        "id": "xMaaO-RaNcOm"
      },
      "source": [
        "# Performance Matrices"
      ]
    },
    {
      "cell_type": "code",
      "execution_count": null,
      "metadata": {
        "execution": {
          "iopub.execute_input": "2021-08-04T03:27:44.24877Z",
          "iopub.status.busy": "2021-08-04T03:27:44.248331Z",
          "iopub.status.idle": "2021-08-04T03:27:44.262292Z",
          "shell.execute_reply": "2021-08-04T03:27:44.261298Z",
          "shell.execute_reply.started": "2021-08-04T03:27:44.248737Z"
        },
        "id": "9M2275MWNcOn",
        "colab": {
          "base_uri": "https://localhost:8080/"
        },
        "outputId": "5eee7381-4ba2-443a-9e0e-bc7188f34bb9"
      },
      "outputs": [
        {
          "output_type": "execute_result",
          "data": {
            "text/plain": [
              "array([[250,   9,   3,   0,  11,   2],\n",
              "       [  6, 198,   0,   0,  11,   9],\n",
              "       [  1,   4, 644,  40,   3,   3],\n",
              "       [  2,   0,  24, 132,   1,   0],\n",
              "       [ 11,   5,   8,   1, 556,   0],\n",
              "       [  1,  15,   5,   0,   3,  42]])"
            ]
          },
          "metadata": {},
          "execution_count": 32
        }
      ],
      "source": [
        "from sklearn.metrics import confusion_matrix\n",
        "\n",
        "cm = confusion_matrix(test_df[\"encoded_test_label\"], predict_class)\n",
        "cm"
      ]
    },
    {
      "cell_type": "code",
      "execution_count": null,
      "metadata": {
        "execution": {
          "iopub.execute_input": "2021-08-04T03:27:47.571294Z",
          "iopub.status.busy": "2021-08-04T03:27:47.570934Z",
          "iopub.status.idle": "2021-08-04T03:27:47.975563Z",
          "shell.execute_reply": "2021-08-04T03:27:47.974313Z",
          "shell.execute_reply.started": "2021-08-04T03:27:47.571264Z"
        },
        "id": "uh3CFRGENcOo",
        "colab": {
          "base_uri": "https://localhost:8080/",
          "height": 445
        },
        "outputId": "21ef1af5-1d6e-4434-ec88-05e757de4d98"
      },
      "outputs": [
        {
          "output_type": "execute_result",
          "data": {
            "text/plain": [
              "<matplotlib.axes._subplots.AxesSubplot at 0x7fca9b840a50>"
            ]
          },
          "metadata": {},
          "execution_count": 33
        },
        {
          "output_type": "display_data",
          "data": {
            "text/plain": [
              "<Figure size 720x504 with 2 Axes>"
            ],
            "image/png": "[encoded data removed]"
          },
          "metadata": {
            "needs_background": "light"
          }
        }
      ],
      "source": [
        "df_cm = pd.DataFrame(cm, index=[\"anger\", \"fear\", \"joy\", \"love\", \"sadness\", \"surprise\"], columns=[\"anger\", \"fear\", \"joy\", \"love\", \"sadness\", \"surprise\"])\n",
        "plt.figure(figsize = (10,7))\n",
        "sns.heatmap(df_cm,annot=True, fmt =\"d\")"
      ]
    },
    {
      "cell_type": "code",
      "execution_count": null,
      "metadata": {
        "execution": {
          "iopub.execute_input": "2021-08-04T03:27:56.069992Z",
          "iopub.status.busy": "2021-08-04T03:27:56.069644Z",
          "iopub.status.idle": "2021-08-04T03:27:56.084769Z",
          "shell.execute_reply": "2021-08-04T03:27:56.083698Z",
          "shell.execute_reply.started": "2021-08-04T03:27:56.069962Z"
        },
        "id": "UopblAYxNcOp",
        "colab": {
          "base_uri": "https://localhost:8080/"
        },
        "outputId": "a40e9f34-76b3-41b0-b03a-d64e7445c0f5"
      },
      "outputs": [
        {
          "output_type": "stream",
          "name": "stdout",
          "text": [
            "              precision    recall  f1-score   support\n",
            "\n",
            "       anger       0.92      0.91      0.92       275\n",
            "        fear       0.86      0.88      0.87       224\n",
            "         joy       0.94      0.93      0.93       695\n",
            "        love       0.76      0.83      0.80       159\n",
            "     sadness       0.95      0.96      0.95       581\n",
            "    surprise       0.75      0.64      0.69        66\n",
            "\n",
            "    accuracy                           0.91      2000\n",
            "   macro avg       0.86      0.86      0.86      2000\n",
            "weighted avg       0.91      0.91      0.91      2000\n",
            "\n"
          ]
        }
      ],
      "source": [
        "from sklearn.metrics import classification_report\n",
        "\n",
        "print(classification_report(test_df[\"encoded_test_label\"], predict_class, target_names =[\"anger\", \"fear\", \"joy\", \"love\", \"sadness\", \"surprise\"]))"
      ]
    },
    {
      "cell_type": "code",
      "source": [
        "Li=['anger','fear','joy','love','sadness','surprise']"
      ],
      "metadata": {
        "id": "kAQ-L0tKToX9"
      },
      "execution_count": null,
      "outputs": []
    },
    {
      "cell_type": "code",
      "source": [
        "import time\n",
        "\n",
        "message = ['''\n",
        "''']\n",
        "\n",
        "seq = tokenizer.texts_to_sequences(message)\n",
        "padded = pad_sequences(seq, maxlen=maxlen)\n",
        "\n",
        "start_time = time.time()\n",
        "pred = model.predict(padded)\n",
        "\n",
        "print('Message: ' + str(message))\n",
        "print('predicted: {} ({:.2f} seconds)'.format(predict_class[np.argmax(pred)], (time.time() - start_time)))\n",
        "No=predict_class[np.argmax(pred)]\n",
        "print(Li[No])"
      ],
      "metadata": {
        "colab": {
          "base_uri": "https://localhost:8080/"
        },
        "id": "Fs0hfSMZC3ZO",
        "outputId": "a7d6177a-2ac2-430e-c840-c23e8c9b0b3b"
      },
      "execution_count": null,
      "outputs": [
        {
          "output_type": "stream",
          "name": "stdout",
          "text": [
            "Message: ['A chest of metal, an eagle’s vision\\nA teeth of sour girdle, an insight of taught mentions\\nA plunging foot, a never dragging heart\\nThere a princess stood, but never a hint of look or any dart\\nScorching suns were braved\\nTorenting skies were naived\\nDust like a life stuck up in every breadth\\nBut the bronze turned skin shows his worth of every mile\\nA sweet child’s look, an outsmarting tangle\\nA heart wrapped up in pure satin\\nTo be lent, to without crave given... to the\\nBronze man in the shining armour\\nA metal built but without any doubt, human emotions he felt\\nA mask of ignorance worn,\\nA mask of love that was thrown\\nDays of blooming flowers, Ages of moving clouds\\nA touch of line upon the princess’ radiant skin shone\\nA wage of a tower, but yet never held any power...\\nHis people mattered most he splattered\\nWars of brave ones gone, yet he seemed as strong as sun\\nBut just as unique and lovely he was\\nA gray tress came along, but never did the princess\\nShow a sign of crave w+A185ithdrawn\\nShe gazed and withheld the A184heart that was never given to hold\\nNeigh a quarter century but seventeen years of doom stay\\nWho says, every living moment was a precious day\\nUntil a battle came, the same messenger to call them away\\nThe torrent warnings and swords flocked,\\nThe persons in numbers, they were all brave soldiers that flocked\\nA life’s battle…so long will take\\nMaybe a fortnight or until the next full moon day\\nHer heart leapt just like it had for every rage in these seventeen years\\nShe crouched; she leaned to have the clearest view\\nOf her bronze man in the shining armour\\nHe was at his point’s sharpness, a heart of rage and a love for his men unmeasured\\nA triumphant eagle’s scowl thrown\\nA way to the highest he has never known\\nBut a look of gracious melodies, everlasting charms made a flash\\nHe turned to the tower, where he knew the princess stood and gave a look into her eyes and then to the skies as he always did\\nA pleasure of pre-victory to have earned the world’s most precious gem\\nBut a look of plain bravery and everlasting plight\\nBut less did he know this would be his last sight\\nWith a brave leap onto his trustee\\nHe rode off... into the land of wilderness\\nInto the air of plain aura\\nThus she held... Thus she will tell...\\nThat this is my Knight’s Shining Armour\\n']\n",
            "predicted: 4 (0.11 seconds)\n",
            "sadness\n"
          ]
        }
      ]
    }
  ],
  "metadata": {
    "kernelspec": {
      "display_name": "Python 3 (ipykernel)",
      "language": "python",
      "name": "python3"
    },
    "language_info": {
      "codemirror_mode": {
        "name": "ipython",
        "version": 3
      },
      "file_extension": ".py",
      "mimetype": "text/x-python",
      "name": "python",
      "nbconvert_exporter": "python",
      "pygments_lexer": "ipython3",
      "version": "3.10.4"
    },
    "colab": {
      "provenance": []
    }
  },
  "nbformat": 4,
  "nbformat_minor": 0
}